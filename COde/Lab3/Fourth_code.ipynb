{
  "nbformat": 4,
  "nbformat_minor": 0,
  "metadata": {
    "colab": {
      "provenance": []
    },
    "kernelspec": {
      "name": "python3",
      "display_name": "Python 3"
    },
    "language_info": {
      "name": "python"
    }
  },
  "cells": [
    {
      "cell_type": "code",
      "execution_count": null,
      "metadata": {
        "id": "9GCs7gKGzOd_"
      },
      "outputs": [],
      "source": [
        "#Task 1\n",
        "text=input()\n",
        "print(text[::-1])"
      ]
    },
    {
      "cell_type": "code",
      "source": [
        "#Task 2\n",
        "text=input()\n",
        "num=int(input())\n",
        "print(text[num::-1]+text[num+1:])"
      ],
      "metadata": {
        "id": "WKDp3aEJ2Fj6"
      },
      "execution_count": null,
      "outputs": []
    },
    {
      "cell_type": "code",
      "source": [
        "#Task 3\n",
        "name = input()\n",
        "flag=True\n",
        "for i in name:\n",
        "    if i!='1' and i!='0':\n",
        "        flag=False\n",
        "        print('Not a Binary Number')\n",
        "        break\n",
        "\n",
        "if flag==True:\n",
        "    print('Binary Number')"
      ],
      "metadata": {
        "id": "SjQ_8Mxs3eiD"
      },
      "execution_count": null,
      "outputs": []
    },
    {
      "cell_type": "code",
      "source": [
        "#Task 4\n",
        "name=input()\n",
        "if len(name)<4:\n",
        "     if name[-2:]==\"er\":\n",
        "      print(name[:len(name)-1]+\"st\")\n",
        "     else:\n",
        "      print(name)\n",
        "elif len(name)>3:\n",
        "    if name[-2:]==\"er\":\n",
        "      print(name[:len(name)-1]+\"st\")\n",
        "    elif name[-3:]==\"est\":\n",
        "      print(name)\n",
        "    else:\n",
        "      print(name+\"er\")"
      ],
      "metadata": {
        "id": "AMgpxg7k36Va"
      },
      "execution_count": null,
      "outputs": []
    },
    {
      "cell_type": "code",
      "source": [
        "#Task 5\n",
        "name=input()\n",
        "j=\"\"\n",
        "for i in name:\n",
        "  j = j+i\n",
        "  print(j)"
      ],
      "metadata": {
        "id": "-BPcgmp537n6"
      },
      "execution_count": null,
      "outputs": []
    },
    {
      "cell_type": "code",
      "source": [
        "#Task 6\n",
        "name=input()\n",
        "for i in name:\n",
        "    print(str(i)+\":\"+str(ord(i)))"
      ],
      "metadata": {
        "id": "m0iUCp0Q38BC"
      },
      "execution_count": null,
      "outputs": []
    },
    {
      "cell_type": "code",
      "source": [
        "#Task 7\n",
        "name=input()\n",
        "for i in name:\n",
        "    ascii=ord(i)\n",
        "    if ascii==90 or ascii==122:\n",
        "      ascii=ascii-26\n",
        "    ascii+=1\n",
        "    print(chr(ascii),end=\"\")"
      ],
      "metadata": {
        "id": "JrV4p82338OR"
      },
      "execution_count": null,
      "outputs": []
    },
    {
      "cell_type": "code",
      "source": [
        "#Task 8\n",
        "name=input()\n",
        "x=name[1::2].upper()\n",
        "print(x)"
      ],
      "metadata": {
        "id": "AMLq6-4238cB"
      },
      "execution_count": null,
      "outputs": []
    },
    {
      "cell_type": "code",
      "source": [
        "#Task 9\n",
        "name=input()\n",
        "j=\"\"\n",
        "for i in name:\n",
        "    if j ==\"\" or i!=j[len(j)-1]:\n",
        "      j+=i\n",
        "\n",
        "print(j)\n"
      ],
      "metadata": {
        "id": "1vq0-_3M4C5m"
      },
      "execution_count": null,
      "outputs": []
    },
    {
      "cell_type": "code",
      "source": [
        "#Task 10\n",
        "stig=\"\"\n",
        "wig=\"\"\n",
        "x=input()\n",
        "y=x.index(\",\")\n",
        "i=x[:y].strip()\n",
        "j=x[y+1:].strip()\n",
        "\n",
        "if len(i)>len(j):\n",
        "    for a in range(0,len(j)):\n",
        "      stig+=i[a]+j[a]\n",
        "      a+=1\n",
        "    print(stig+i[len(j):], end=\"\")\n",
        "elif len(i)<len(j):\n",
        "    for b in range(len(i)):\n",
        "      wig+=i[b]+j[b]\n",
        "      b+=1\n",
        "    print(wig+j[len(i):], end=\"\")\n",
        "else:\n",
        "    for c in range(len(j)):\n",
        "     lig=i[c]+j[c]\n",
        "     c+=1\n",
        "     print(lig, end=\"\")"
      ],
      "metadata": {
        "id": "GAj9cYqy4F3-"
      },
      "execution_count": null,
      "outputs": []
    },
    {
      "cell_type": "code",
      "source": [
        "i=0\n",
        "j=0\n",
        "k=15\n",
        "test=\"<coat\"\n",
        "while i<5:\n",
        "  k-=1\n",
        "  j=k\n",
        "  while j>10:\n",
        "    if j%2==0:\n",
        "      test+=\"-->\"\n",
        "      test=test+str(i)+str(j//2)\n",
        "    else:\n",
        "      test+=\"<--\"\n",
        "      test=test+str(i//2)+str(j)\n",
        "    print(test)\n",
        "    j-=1\n",
        "  i+=1"
      ],
      "metadata": {
        "id": "2KmEsRSPSC1j"
      },
      "execution_count": null,
      "outputs": []
    },
    {
      "cell_type": "code",
      "source": [
        "name=input()\n",
        "name1=name.upper()\n",
        "for j in range(65,91):\n",
        "    x=name1.count(chr(j))\n",
        "    print(chr(j),\"=\",x)"
      ],
      "metadata": {
        "id": "C90z1oycUsrR"
      },
      "execution_count": null,
      "outputs": []
    },
    {
      "cell_type": "code",
      "source": [
        "name=\"yroyby\"\n",
        "y=name.count(\"y\")\n",
        "print(y)\n",
        "chr(65)"
      ],
      "metadata": {
        "id": "gj4Q_l-OIOYR"
      },
      "execution_count": null,
      "outputs": []
    },
    {
      "cell_type": "code",
      "source": [
        "name1=input()\n",
        "name2=input()\n",
        "count=0\n",
        "for i in name1:\n",
        "  for j in name2:\n",
        "    if i==j:\n",
        "      count+=1\n",
        "      print(i,end=\"\")\n",
        "    else:\n",
        "      continue\n",
        "\n",
        "print(\"\\n\"count)\n"
      ],
      "metadata": {
        "id": "Fmg6Z6jDLetH"
      },
      "execution_count": null,
      "outputs": []
    },
    {
      "cell_type": "code",
      "source": [],
      "metadata": {
        "id": "wACEc9AtNA_c"
      },
      "execution_count": null,
      "outputs": []
    }
  ]
}