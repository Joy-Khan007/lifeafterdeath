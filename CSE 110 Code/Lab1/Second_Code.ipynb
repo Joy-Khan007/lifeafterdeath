{
  "nbformat": 4,
  "nbformat_minor": 0,
  "metadata": {
    "colab": {
      "provenance": []
    },
    "kernelspec": {
      "name": "python3",
      "display_name": "Python 3"
    },
    "language_info": {
      "name": "python"
    }
  },
  "cells": [
    {
      "cell_type": "code",
      "execution_count": null,
      "metadata": {
        "id": "htPr7o3lppXj"
      },
      "outputs": [],
      "source": [
        "#Task 1\n",
        "num1=int(input())\n",
        "num2=int(input())\n",
        "print(\"Sum=\", num1+num2)\n",
        "print(\"Product=\", num1*num2)\n",
        "print(\"Difference=\", num1-num2)"
      ]
    },
    {
      "cell_type": "code",
      "source": [
        "#Task 2\n",
        "import math\n",
        "num1=float(input())\n",
        "print(\"Area is:\", math.pi*num1**2)\n",
        "print(\"Circumference is:\", 2*math.pi*num1)\n"
      ],
      "metadata": {
        "id": "-uiiPaXptglV"
      },
      "execution_count": null,
      "outputs": []
    },
    {
      "cell_type": "code",
      "source": [
        "#Task 3\n",
        "num1=int(input())\n",
        "num2= int(input())\n",
        "\n",
        "if num1>num2:\n",
        "    print(\"First is greater\")\n",
        "elif num1<num2:\n",
        "    print(\"Second is greater\")\n",
        "else:\n",
        "    print(\"The numbers are equal\")"
      ],
      "metadata": {
        "id": "O3Vde2Gpwyic"
      },
      "execution_count": null,
      "outputs": []
    },
    {
      "cell_type": "code",
      "source": [
        "#Task 4\n",
        "num1=int(input())\n",
        "num2=int(input())\n",
        "\n",
        "if num1>num2:\n",
        "    print(num1-num2)\n",
        "elif num1<num2:\n",
        "    print(num2-num1)\n",
        "else:\n",
        "    print(0)"
      ],
      "metadata": {
        "id": "Ulv41Uw4xeMT"
      },
      "execution_count": null,
      "outputs": []
    },
    {
      "cell_type": "code",
      "source": [
        "#Task 5\n",
        "num1=int(input())\n",
        "\n",
        "if num1%2==0:\n",
        "    print(\"The number is even\")\n",
        "else:\n",
        "    print(\"The number is odd\")"
      ],
      "metadata": {
        "id": "0cZPQZMpyIsn"
      },
      "execution_count": null,
      "outputs": []
    },
    {
      "cell_type": "code",
      "source": [
        "#Task 6\n",
        "num1= int(input())\n",
        "\n",
        "if num1%2==0 or num1%5==0:\n",
        "    print(num1)\n",
        "else:\n",
        "    print(\"Not a multiple of 2 OR 5\")"
      ],
      "metadata": {
        "id": "PK10bYIVyqHi"
      },
      "execution_count": null,
      "outputs": []
    },
    {
      "cell_type": "code",
      "source": [
        "#Task 7\n",
        "num1= int(input())\n",
        "\n",
        "if num1%2==0 and num1%5==0:\n",
        "    print(\"Multiple of 2 and 5 both\")\n",
        "elif num1%2==0 or num1%5==0:\n",
        "    print(num1)\n",
        "else:\n",
        "    print(\"Not a multiple we want\")"
      ],
      "metadata": {
        "id": "1cE8lzEBzT6a"
      },
      "execution_count": null,
      "outputs": []
    },
    {
      "cell_type": "code",
      "source": [
        "#Task 8\n",
        "num1= int(input())\n",
        "\n",
        "if num1%2==0 and num1%5==0:\n",
        "    print(\"Multiple of 2 and 5 both\")\n",
        "else:\n",
        "    print(\"Not multiple of 2 and 5 both\")"
      ],
      "metadata": {
        "id": "ExJ55bmt0ABJ"
      },
      "execution_count": null,
      "outputs": []
    },
    {
      "cell_type": "code",
      "source": [
        "#Task 9\n",
        "num1=int(input())\n",
        "num2=num1//3600\n",
        "num3=(num1%3600)//60\n",
        "num4=(num1%3600)%60\n",
        "\n",
        "print(\"Hours:\"+str(num2)+\" \"+\"Minutes:\"+str(num3)+\" \"+\"Seconds:\"+str(num4))"
      ],
      "metadata": {
        "id": "oZtJDOo10lAo"
      },
      "execution_count": null,
      "outputs": []
    },
    {
      "cell_type": "code",
      "source": [
        "#Task 10\n",
        "hours=int(input())\n",
        "hours1=(hours-40)*300\n",
        "if hours<=40:\n",
        "    print(200*hours)\n",
        "else:\n",
        "    print(hours1+8000)"
      ],
      "metadata": {
        "id": "87loI_cs3PIy"
      },
      "execution_count": null,
      "outputs": []
    },
    {
      "cell_type": "code",
      "source": [
        "#Task 11\n",
        "S=int(input())\n",
        "\n",
        "if S<100:\n",
        "    print(3000-125*S**2)\n",
        "else:\n",
        "    print(12000/(4+S**2/14900))"
      ],
      "metadata": {
        "id": "itNYFLg04n_U"
      },
      "execution_count": null,
      "outputs": []
    },
    {
      "cell_type": "code",
      "source": [
        "#Task 12\n",
        "num1= int(input())\n",
        "\n",
        "if 4<=num1<=6:\n",
        "    print(\"Breakfast\")\n",
        "elif 12<=num1<=13:\n",
        "    print(\"Lunch\")\n",
        "elif 16<=num1<=17:\n",
        "    print(\"Snacks\")\n",
        "elif 19<=num1<=20:\n",
        "    print(\"Dinner\")\n",
        "elif 0<=num1<=23:\n",
        "    print(\"Patience is a virtue\")\n",
        "else:\n",
        "    print(\"Wrong time\")"
      ],
      "metadata": {
        "id": "cr1WAtHS5Ltm"
      },
      "execution_count": null,
      "outputs": []
    },
    {
      "cell_type": "code",
      "source": [
        "#Task 13\n",
        "num1= int(input())\n",
        "\n",
        "if num1>90:\n",
        "    print(\"A\")\n",
        "elif num1>80:\n",
        "    print(\"B\")\n",
        "elif num1>70:\n",
        "    print(\"C\")\n",
        "elif num1>60:\n",
        "    print(\"D\")\n",
        "elif num1>50:\n",
        "    print(\"E\")\n",
        "elif 0<=num1<=49:\n",
        "    print(\"F\")\n",
        "else:\n",
        "    print(\"Invalid number\")\n"
      ],
      "metadata": {
        "id": "PJfdONsN6seD"
      },
      "execution_count": null,
      "outputs": []
    },
    {
      "cell_type": "code",
      "source": [
        "#Task 14\n",
        "num1= int(input())\n",
        "num2= int(input())\n",
        "\n",
        "v=(num1/1000)/(num2/3600)\n",
        "\n",
        "if v>90:\n",
        "    print(v, \"\\nToo fast. Only few changes should suffice.\")\n",
        "elif v>=60:\n",
        "    print(v, \"\\nVelocity is okay.The car is ready!\")\n",
        "else:\n",
        "    print(v, \"\\nToo slow Needs more changes.\")"
      ],
      "metadata": {
        "id": "f6tnYUHo7PDS"
      },
      "execution_count": null,
      "outputs": []
    },
    {
      "cell_type": "code",
      "source": [
        "#Task 15\n",
        "cgpa= float(input())\n",
        "credit= int(input())\n",
        "\n",
        "if credit>=30:\n",
        "    if cgpa>=4.00:\n",
        "      print(\"The student is eliglble for a waiver of  100 percent.\")\n",
        "    elif cgpa>3.94:\n",
        "      print(\"The student is eligble for a waiver of 75 percent.\")\n",
        "    elif cgpa>3.89:\n",
        "      print(\"The student is eligble for a waiver of 50 percent.\")\n",
        "    elif cgpa>3.79:\n",
        "      print(\"The student is eligible for a waiver of 25 percent.\")\n",
        "    elif(cgpa<=3.79):\n",
        "      print(\"The student is not eligible for a waiver.\")\n",
        "else:\n",
        "    print(\"The student is not eligible for a waiver.\")\n"
      ],
      "metadata": {
        "id": "WoJ7nsxH9d9e"
      },
      "execution_count": null,
      "outputs": []
    },
    {
      "cell_type": "code",
      "source": [
        "#Task 20\n",
        "num1= int(input())\n",
        "\n",
        "if num1%2!=0 and num1%2!=0:\n",
        "   print(num1)\n",
        "else:\n",
        "   print(\"No\")"
      ],
      "metadata": {
        "id": "ur5_MdxRA1Tx"
      },
      "execution_count": null,
      "outputs": []
    },
    {
      "cell_type": "code",
      "source": [
        "#Task 21\n",
        "num1= int(input())\n",
        "\n",
        "if num1%2!=0 or num1%5!=0:\n",
        "    print(num1)\n",
        "else:\n",
        "    print(\"No\")\n"
      ],
      "metadata": {
        "id": "jePHjR1lBezw"
      },
      "execution_count": null,
      "outputs": []
    },
    {
      "cell_type": "code",
      "source": [
        "#Task 22\n",
        "num1= int(input())\n",
        "num2= int(input())\n",
        "\n",
        "total=num1*120+num2*75\n",
        "\n",
        "if total>=1000:\n",
        "    print(\"Previous total:\"+str(total)+\"\\nNew total after discount:\"+str(total-150))\n",
        "elif total>=750:\n",
        "    print(\"Previous total:\"+str(total)+\"\\nNew total after discount:\"+str(total-50))\n",
        "elif total>=500:\n",
        "    print(\"Previous total:\"+str(total)+\"\\nNew total after discount:\"+str(total-20))\n",
        "elif total>=300:\n",
        "    print(\"Previous total:\"+str(total)+\"\\nNew total after discount:\"+str(total-10))\n",
        "else:\n",
        "    print(\"Total:\"+str(total)+\"No discount\")"
      ],
      "metadata": {
        "colab": {
          "base_uri": "https://localhost:8080/"
        },
        "id": "UZ0-XOiOCHyf",
        "outputId": "8acc6f09-80d0-43de-891f-535f6feb38d9"
      },
      "execution_count": null,
      "outputs": [
        {
          "output_type": "stream",
          "name": "stdout",
          "text": [
            "5\n",
            "8\n",
            "Previous total:1200\n",
            "New total after discount:1050\n"
          ]
        }
      ]
    },
    {
      "cell_type": "code",
      "source": [
        "#Task 23\n",
        "num1= int(input())\n",
        "num2=((num1)-32)*0.56\n",
        "num3=round(num2, 3)\n",
        "\n",
        "if num3>=30:\n",
        "    print(num3 , \"degrees C\", \"\\nSummer\")\n",
        "elif num3>25:\n",
        "    print(num3, \"degrees C\", \"\\nSpring\")\n",
        "elif num3>=20:\n",
        "    print(num3, \"degrees C\", \"\\nAutumn\")\n",
        "else:\n",
        "   print(num3, \"degrees C\", \"\\nWinter\")\n"
      ],
      "metadata": {
        "id": "t7D0GPeWEJF3"
      },
      "execution_count": null,
      "outputs": []
    }
  ]
}