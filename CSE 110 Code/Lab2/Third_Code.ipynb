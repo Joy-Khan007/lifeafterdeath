{
  "nbformat": 4,
  "nbformat_minor": 0,
  "metadata": {
    "colab": {
      "provenance": []
    },
    "kernelspec": {
      "name": "python3",
      "display_name": "Python 3"
    },
    "language_info": {
      "name": "python"
    }
  },
  "cells": [
    {
      "cell_type": "code",
      "execution_count": null,
      "metadata": {
        "id": "aCENDh_-tQa_"
      },
      "outputs": [],
      "source": [
        "#Task 1\n",
        "num=-10\n",
        "while num<= 20:\n",
        "    if num == 20:\n",
        "        print(num)\n",
        "    else:\n",
        "        print(num, end=\", \")\n",
        "    num+=5\n",
        "\n",
        "num1=18\n",
        "sign=1\n",
        "while num1<= 63:\n",
        "    if num1 == 63:\n",
        "        print(num1*sign)\n",
        "    else:\n",
        "        print(num1*sign, end=\", \")\n",
        "    sign*=-1\n",
        "    num1+=9"
      ]
    },
    {
      "cell_type": "code",
      "source": [
        "#Task 2\n",
        "car= input(\"Enter car name: \")\n",
        "num= int(input(\"Enter a number:\"))\n",
        "var=1\n",
        "\n",
        "while var <=num:\n",
        "      print(car)\n",
        "      var+=1"
      ],
      "metadata": {
        "id": "7AVqoiVuv4PX"
      },
      "execution_count": null,
      "outputs": []
    },
    {
      "cell_type": "code",
      "source": [
        "#Task 3\n",
        "x = 0\n",
        "for i in range(0, 600):\n",
        "  if i%7==0 and i%9==0:\n",
        "    x+=i\n",
        "print(x)"
      ],
      "metadata": {
        "id": "3BYtvPmDMZE8"
      },
      "execution_count": null,
      "outputs": []
    },
    {
      "cell_type": "code",
      "source": [
        "#Task 4\n",
        "x=0\n",
        "for count in range(1,601):\n",
        "    if(count%7==0) and (count%9==0):\n",
        "      pass\n",
        "    elif(count%7==0) or (count%9==0):\n",
        "      x=x+count\n",
        "\n",
        "print(x)"
      ],
      "metadata": {
        "id": "iEqdBdpUU5MC"
      },
      "execution_count": null,
      "outputs": []
    },
    {
      "cell_type": "code",
      "source": [
        "#Task 5\n",
        "num1=11\n",
        "\n",
        "while num1<=50:\n",
        "    print(num1, end=\" \")\n",
        "    num1+=2"
      ],
      "metadata": {
        "id": "yDbXKsLj5DJT"
      },
      "execution_count": null,
      "outputs": []
    },
    {
      "cell_type": "code",
      "source": [
        "#Task 6\n",
        "x=int(input())\n",
        "n=0\n",
        "\n",
        "for count in range(1,x+1):\n",
        "    n=count**2+n\n",
        "\n",
        "print(n)"
      ],
      "metadata": {
        "id": "5c6Y78_WZABt"
      },
      "execution_count": null,
      "outputs": []
    },
    {
      "cell_type": "code",
      "source": [
        "#Task 7\n",
        "Sum = 0\n",
        "j=0\n",
        "\n",
        "print(\"Please Enter 10 Numbers\\n\")\n",
        "for i in range(1, 11):\n",
        "    num = int(input(\"Number %d = \" %i))\n",
        "    if num%2!=0:\n",
        "      j+=1\n",
        "    else:\n",
        "      continue\n",
        "    if num%2!=0:\n",
        "      Sum+=num\n",
        "    else:\n",
        "      continue\n",
        "avg=Sum/j\n",
        "\n",
        "print(\"The Sum of 10 Numbers= \", Sum)\n",
        "print(\"The Average of Numbers= \", avg)"
      ],
      "metadata": {
        "id": "SrjZa00WarQg"
      },
      "execution_count": null,
      "outputs": []
    },
    {
      "cell_type": "code",
      "source": [
        "#Task 8\n",
        "x = 0\n",
        "n=int(input())\n",
        "for i in range(0, n+1):\n",
        "  if i%7==0:\n",
        "    x+=i\n",
        "print(x)"
      ],
      "metadata": {
        "id": "kT6LxGTefOaC"
      },
      "execution_count": null,
      "outputs": []
    },
    {
      "cell_type": "code",
      "source": [
        "#Task 9\n",
        "count=0\n",
        "var=0\n",
        "\n",
        "while count<=4:\n",
        "    num=int(input())\n",
        "    count+=1\n",
        "    var+=num\n",
        "    print(var)"
      ],
      "metadata": {
        "id": "wxp7xnlf5u6V"
      },
      "execution_count": null,
      "outputs": []
    },
    {
      "cell_type": "code",
      "source": [
        "#Task 10\n",
        "num=int(input())\n",
        "\n",
        "while num!=0:\n",
        "      print(num%10,end=\",\")\n",
        "      num//=10"
      ],
      "metadata": {
        "id": "doZ9bjZ-8w_0"
      },
      "execution_count": null,
      "outputs": []
    },
    {
      "cell_type": "code",
      "source": [
        "#Task 11\n",
        "num=int(input())\n",
        "var=0\n",
        "\n",
        "while num!=0:\n",
        "      num//=10\n",
        "      var+=1\n",
        "print(var)"
      ],
      "metadata": {
        "id": "u0ZYhmyG_90t"
      },
      "execution_count": null,
      "outputs": []
    },
    {
      "cell_type": "code",
      "source": [
        "#Task 12\n",
        "num=int(input())\n",
        "numstr=str(num)\n",
        "for char in numstr:\n",
        "    print(char, end=\",\")"
      ],
      "metadata": {
        "id": "hRFL4qmQgGzh"
      },
      "execution_count": null,
      "outputs": []
    },
    {
      "cell_type": "code",
      "source": [
        "#Task 13\n",
        "n=int(input())\n",
        "num1=1\n",
        "num2=1\n",
        "while num2<n:\n",
        "    if n%num2==0:\n",
        "      print(num1)\n",
        "      num1+=1\n",
        "    num2+=1\n",
        "print(n)\n",
        "print(\"total divisor \",num1)"
      ],
      "metadata": {
        "id": "hvkV3tjcgIVU"
      },
      "execution_count": null,
      "outputs": []
    },
    {
      "cell_type": "code",
      "source": [
        "#Task 14\n",
        "count=0\n",
        "var=1\n",
        "num=int(input())\n",
        "while var<num:\n",
        "    if num%var==0:\n",
        "        count+=1\n",
        "    var+=1\n",
        "if count==1:\n",
        "    print(num,\"is not a perfect number.\")\n",
        "else:\n",
        "    print(num,\"is  a perfect number.\")"
      ],
      "metadata": {
        "id": "aELQhkbAD31o"
      },
      "execution_count": null,
      "outputs": []
    },
    {
      "cell_type": "code",
      "source": [
        "#Task 15\n",
        "count=0\n",
        "var=1\n",
        "num=int(input())\n",
        "while var<num:\n",
        "    if num%var==0:\n",
        "        count+=1\n",
        "    var+=1\n",
        "if count==1:\n",
        "    print(num,\"is  a prime number.\")\n",
        "else:\n",
        "    print(num,\"is not a prime number.\")"
      ],
      "metadata": {
        "id": "u9rqHFXVBkGx"
      },
      "execution_count": null,
      "outputs": []
    },
    {
      "cell_type": "code",
      "source": [
        "#Task 16\n",
        "num=int(input())\n",
        "a=0\n",
        "b=0\n",
        "sum=0\n",
        "for i in range(0,num):\n",
        "  x=num=int(input())\n",
        "  if a==0:\n",
        "    a=x\n",
        "  elif x>a:\n",
        "    a=x\n",
        "  if b==0:\n",
        "    b=x\n",
        "  elif x<b:\n",
        "    b=x\n",
        "  sum+=x\n",
        "\n",
        "print(\"Maximum=\", a)\n",
        "print(\"Minimum=\", b)\n",
        "print(\"Total\", sum)\n",
        "\n",
        "\n"
      ],
      "metadata": {
        "id": "xcbUMZBVgLBp"
      },
      "execution_count": null,
      "outputs": []
    },
    {
      "cell_type": "code",
      "source": [
        "#Task 17\n",
        "rows=int(input())\n",
        "for i in range(rows):\n",
        "  for i in range(rows):\n",
        "    print(\"+\", end=\"\")\n",
        "  print()"
      ],
      "metadata": {
        "id": "NQ3KcZhVgLVj"
      },
      "execution_count": null,
      "outputs": []
    },
    {
      "cell_type": "code",
      "source": [
        "#Task 18\n",
        "M= int(input())\n",
        "N= int(input())\n",
        "for i in range(0,M):\n",
        "  for j in range(0,N):\n",
        "    print(j,end=\"\")\n",
        "  print(\"\")"
      ],
      "metadata": {
        "id": "3sb-EkU0gLja"
      },
      "execution_count": null,
      "outputs": []
    },
    {
      "cell_type": "code",
      "source": [
        "#Task 19\n",
        "rows = int(input(\"Enter number of rows: \"))\n",
        "x=1\n",
        "\n",
        "while x<=rows:\n",
        "      y=1\n",
        "      while y<=x:\n",
        "        print(y,end=\"\")\n",
        "        y+=1\n",
        "      print(\"\")\n",
        "      x+=1"
      ],
      "metadata": {
        "id": "ZadBE-qyEvdm"
      },
      "execution_count": null,
      "outputs": []
    }
  ]
}