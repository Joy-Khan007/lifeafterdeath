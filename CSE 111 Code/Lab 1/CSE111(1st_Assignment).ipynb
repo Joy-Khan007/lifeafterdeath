{
  "nbformat": 4,
  "nbformat_minor": 0,
  "metadata": {
    "colab": {
      "provenance": []
    },
    "kernelspec": {
      "name": "python3",
      "display_name": "Python 3"
    },
    "language_info": {
      "name": "python"
    }
  },
  "cells": [
    {
      "cell_type": "code",
      "execution_count": null,
      "metadata": {
        "id": "WPAOSbCAf1ED"
      },
      "outputs": [],
      "source": [
        "#Task 1\n",
        "name=input()\n",
        "count=0\n",
        "for i in name:\n",
        "  if 65<=ord(i)<=90:\n",
        "    count+=1\n",
        "  else:\n",
        "    count-=1\n",
        "if count>0:\n",
        "  name=name.upper()\n",
        "else:\n",
        "  name=name.lower()\n",
        "\n",
        "print(name)"
      ]
    },
    {
      "cell_type": "code",
      "source": [
        "#Task 2\n",
        "name=input()\n",
        "count=0\n",
        "count1=0\n",
        "for i in name:\n",
        "  if i.isdigit():\n",
        "    count+=1\n",
        "  else:\n",
        "    count1+=1\n",
        "if count>0 and count1>0:\n",
        "  print(\"MIXED\")\n",
        "elif count>0:\n",
        "  print(\"NUMBER\")\n",
        "else:\n",
        "  print(\"WORD\")"
      ],
      "metadata": {
        "id": "CDFkmNqOiGrc"
      },
      "execution_count": null,
      "outputs": []
    },
    {
      "cell_type": "code",
      "source": [
        "#Task 3\n",
        "name=input()\n",
        "name1=\"\"\n",
        "count1=0\n",
        "count=0\n",
        "for i in name:\n",
        "  if 65<=ord(i)<=90:\n",
        "    for j in name[count1:]:\n",
        "      if 97<=ord(j)<=122:\n",
        "        name1+=j\n",
        "        count+=1\n",
        "      else:\n",
        "        break\n",
        "  else:\n",
        "    count1+=1\n",
        "if count==0:\n",
        "  print(\"BLANK\")\n",
        "else:\n",
        "  print(name1)"
      ],
      "metadata": {
        "id": "Yn8WWgnhmbu0"
      },
      "execution_count": null,
      "outputs": []
    },
    {
      "cell_type": "code",
      "source": [
        "#Task 4\n",
        "name=input()\n",
        "list1=name.split(\",\")\n",
        "for i in list1[0]:\n",
        "  if i in list1[1]:\n",
        "    print(i,end=\"\")\n",
        "for j in list1[1]:\n",
        "  if j in list1[0]:\n",
        "    print(j,end='')"
      ],
      "metadata": {
        "id": "hT-CTA_zjYeK"
      },
      "execution_count": null,
      "outputs": []
    },
    {
      "cell_type": "code",
      "source": [
        "#Task 5\n",
        "name=input()\n",
        "lower=False\n",
        "upper=False\n",
        "digit=False\n",
        "sp=False\n",
        "sp_ch=\"_$#@\"\n",
        "for i in name:\n",
        "  if 65<=ord(i)<=90:\n",
        "    upper=True\n",
        "    break\n",
        "for j in name:\n",
        "  if 97<=ord(j)<=122:\n",
        "    lower=True\n",
        "    break\n",
        "for k in name:\n",
        "  if k.isdigit():\n",
        "    digit=True\n",
        "    break\n",
        "for l in name:\n",
        "  if l in sp_ch:\n",
        "    sp=True\n",
        "if lower==False:\n",
        "  print(\"Lower case missing,\",end=\"\")\n",
        "if upper==False:\n",
        "  print(\"Upper case missing,\",end=\"\")\n",
        "if digit==False:\n",
        "  print(\"Digit missing,\",end=\"\")\n",
        "if sp==False:\n",
        "  print(\"Special character missing,\",end=\"\")\n",
        "if lower==True and upper==True:\n",
        "  if digit==True and sp==True:\n",
        "    print(\"OK\")"
      ],
      "metadata": {
        "id": "8L7EyDJA-9bc"
      },
      "execution_count": null,
      "outputs": []
    },
    {
      "cell_type": "code",
      "source": [
        "#Task 1\n",
        "n=0\n",
        "list1=[]\n",
        "list2=[]\n",
        "while n==0:\n",
        "  name=input()\n",
        "  if name!=\"STOP\":\n",
        "    list1.append(name)\n",
        "  else:\n",
        "    break\n",
        "for i in list1:\n",
        "  if i in list2:\n",
        "    continue\n",
        "  else:\n",
        "    j=list1.count(i)\n",
        "    list2.append(i)\n",
        "    print(i,\"-\",j,\"times\")"
      ],
      "metadata": {
        "id": "VT486chaoGvt"
      },
      "execution_count": null,
      "outputs": []
    },
    {
      "cell_type": "code",
      "source": [
        "#Task 2\n",
        "n=0\n",
        "list1=[]\n",
        "max=0\n",
        "while n==0:\n",
        "  name=input()\n",
        "  if name==\"STOP\":\n",
        "    break\n",
        "  list1=name.split(\" \")\n",
        "  sum=0\n",
        "  for i in list1:\n",
        "    sum+=int(i)\n",
        "  if max<sum:\n",
        "    max=sum\n",
        "    list2=list1\n",
        "print(max)\n",
        "print(list2)"
      ],
      "metadata": {
        "id": "Nl9rFVY0488V"
      },
      "execution_count": null,
      "outputs": []
    },
    {
      "cell_type": "code",
      "source": [
        "#Task 3\n",
        "list3=[]\n",
        "name=input()\n",
        "list1=name.split(\" \")\n",
        "name1=input()\n",
        "list2=name1.split(\" \")\n",
        "for i in list1:\n",
        "  for j in list2:\n",
        "    count=int(i)*int(j)\n",
        "    list3.append(count)\n",
        "print(list3)"
      ],
      "metadata": {
        "id": "sHSlaY8a-5Ze"
      },
      "execution_count": null,
      "outputs": []
    },
    {
      "cell_type": "code",
      "source": [
        "#Task 4\n",
        "n=0\n",
        "list1=[]\n",
        "list2=[]\n",
        "list3=[]\n",
        "while n==0:\n",
        "  name=input()\n",
        "  if name==\"STOP\":\n",
        "    break\n",
        "  list1=name.split(\" \")\n",
        "  print(list1)\n",
        "  for j in range(1,len(list1)):\n",
        "    list2.append(j)\n",
        "\n",
        "  for i in range(0,len(list1)-1):\n",
        "    if i==list1[-1]:\n",
        "      break\n",
        "    count=int(list1[i+1])-int(list1[i])\n",
        "    if count<0:\n",
        "      count=count*-1\n",
        "      list3.append(count)\n",
        "    else:\n",
        "      list3.append(count)\n",
        "  list3=sorted(list3)\n",
        "  if list3==list2:\n",
        "    print(\"UB Jumper\")\n",
        "  else:\n",
        "    print(\"Not UB Jumper\")\n"
      ],
      "metadata": {
        "id": "45EReZ_Mwrir"
      },
      "execution_count": null,
      "outputs": []
    },
    {
      "cell_type": "code",
      "source": [
        "#Task 5\n",
        "list3=[]\n",
        "name=input()\n",
        "list1=name.split(\" \")\n",
        "name1=input()\n",
        "list2=name1.split()\n",
        "for i in list2:\n",
        "  if int(i)+int(list1[1])<6:\n",
        "    list3.append(int(i)+int(list1[1]))\n",
        "count=len(list3)/3\n",
        "print(int(count))\n"
      ],
      "metadata": {
        "id": "hvhsmdnS-7y1"
      },
      "execution_count": null,
      "outputs": []
    },
    {
      "cell_type": "code",
      "source": [
        "#Task 1\n",
        "list3=[]\n",
        "dict3={}\n",
        "name1=input()\n",
        "list1=name1.split(\", \")\n",
        "list12=[]\n",
        "dict1={}\n",
        "for i in list1:\n",
        "  list12+=i.split(\":\")\n",
        "for j in range(0,len(list12),2):\n",
        "    dict1[list12[j]]=list12[j+1]\n",
        "name2=input()\n",
        "list2=name2.split(\", \")\n",
        "list22=[]\n",
        "dict2={}\n",
        "for k in list2:\n",
        "  list22+=k.split(\":\")\n",
        "for l in range(0,len(list22),2):\n",
        "    dict2[list22[l]]=list22[l+1]\n",
        "for m,n in dict1.items():\n",
        "    for p,q in dict2.items():\n",
        "        if  m==p:\n",
        "            dict3[m]=int(n)+int(q)\n",
        "        elif m not in dict3:\n",
        "            dict3[m]=n\n",
        "        elif p not in dict3:\n",
        "          dict3[p]=q\n",
        "my_dict=dict(sorted(dict3.items()))\n",
        "print(my_dict)\n",
        "for t in my_dict:\n",
        "  if int(my_dict[t]) in list3:\n",
        "    continue\n",
        "  else:\n",
        "    list3.append(int(my_dict[t]))\n",
        "list4=sorted(list3)\n",
        "print(tuple(list4))"
      ],
      "metadata": {
        "id": "ggkts7ON2rWf"
      },
      "execution_count": null,
      "outputs": []
    },
    {
      "cell_type": "code",
      "source": [
        "#Task 2\n",
        "n=0\n",
        "dic={}\n",
        "while n==0:\n",
        "  name=input()\n",
        "  dic[name]=dic.get(name,0)+1\n",
        "  if name==\"STOP\":\n",
        "    break\n",
        "for i in dic:\n",
        "  print(i,\"-\",dic[i],\"times\")\n"
      ],
      "metadata": {
        "id": "yScAZg3wzo2h"
      },
      "execution_count": null,
      "outputs": []
    },
    {
      "cell_type": "code",
      "source": [
        "#Task 3\n",
        "name=input()\n",
        "list1=name.split(\",\")\n",
        "list2=[]\n",
        "dict1={}\n",
        "dict2={}\n",
        "for i in list1:\n",
        "  list2+=i.split(\":\")\n",
        "for j in range(0,len(list2),2):\n",
        "    dict1[list2[j]]=list2[j+1]\n",
        "for k,l in dict1.items():\n",
        "    dict2[l] = dict2.get(l, []) + [k]\n",
        "print(dict2)"
      ],
      "metadata": {
        "id": "8nPsZ7yM0pta"
      },
      "execution_count": null,
      "outputs": []
    },
    {
      "cell_type": "code",
      "source": [
        "#Task 4\n",
        "name=input()\n",
        "keypad={'1':['.', ',', '?', '!', ':'],'2':['A', 'B', 'C'],'3':['D', 'E', 'F'],'4':['G', 'H', 'I'],'5':['J', 'K', 'L'],'6':['M', 'N', 'O'],'7':['P', 'Q', 'R', 'S'],'8':['T', 'U', 'V'],'9':['W', 'X', 'Y', 'Z'],'0':[' ']}\n",
        "txt=name.upper()\n",
        "\n",
        "result=\"\"\n",
        "keys=list(keypad.items())\n",
        "\n",
        "for i in range(len(txt)):\n",
        "    for j in range(len(keys)):\n",
        "        for k in range(len(keys[j][1])):\n",
        "            if txt[i] == keys[j][1][k]:\n",
        "                result+=((k+1)*keys[j][0])\n",
        "print(result)"
      ],
      "metadata": {
        "id": "uJXr7_FVbYk0"
      },
      "execution_count": null,
      "outputs": []
    }
  ]
}