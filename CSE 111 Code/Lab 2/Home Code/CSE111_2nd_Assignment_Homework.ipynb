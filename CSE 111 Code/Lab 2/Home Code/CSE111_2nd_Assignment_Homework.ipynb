{
  "nbformat": 4,
  "nbformat_minor": 0,
  "metadata": {
    "colab": {
      "provenance": []
    },
    "kernelspec": {
      "name": "python3",
      "display_name": "Python 3"
    },
    "language_info": {
      "name": "python"
    }
  },
  "cells": [
    {
      "cell_type": "code",
      "execution_count": null,
      "metadata": {
        "id": "TKGGjJBn9hhd"
      },
      "outputs": [],
      "source": [
        "#Task 1\n",
        "def hospital_fee(**num):\n",
        "  max=0\n",
        "  Max1=0\n",
        "  count=0\n",
        "  list1=[]\n",
        "  for i in num:\n",
        "    if num[i]>Max1:\n",
        "      Max1=num[i]\n",
        "  list1.append(Max1)\n",
        "  for i in num:\n",
        "    if num[i]==Max1:\n",
        "      list1.append(i)\n",
        "\n",
        "  return list1\n",
        "\n",
        "\n",
        "x=hospital_fee(Mashrafe=400,Bumrah=900,Steyn=1200,Cummins=900,Wood=400,Marsh=700)\n",
        "print(f\"Highest fee was {x[0]} which was paid by \",end=\"\")\n",
        "for i in range(len(x)-2):\n",
        "  print(x[i+1]+\",\",end=\"\")\n",
        "print(x[-1]+\".\")\n"
      ]
    },
    {
      "cell_type": "code",
      "source": [
        "#Task 2\n",
        "def is_james_bond(list1):\n",
        "    count=0\n",
        "    for i in list1:\n",
        "      if i==0:\n",
        "        count+=1\n",
        "      elif i==7 and count==2:\n",
        "        return True\n",
        "    return False\n",
        "print(is_james_bond([1, 7, 2, 0, 4, 5, 0]))"
      ],
      "metadata": {
        "id": "gtNg8yDl-3ym"
      },
      "execution_count": null,
      "outputs": []
    },
    {
      "cell_type": "code",
      "source": [
        "#Task 3\n",
        "def assign_students_to_sections(alp,*names):\n",
        "  dict1={}\n",
        "  count=0\n",
        "  for i in alp:\n",
        "    dict1[i]=[]\n",
        "  list1=list(names)\n",
        "  for i in list1:\n",
        "    for j in i:\n",
        "      count+=ord(j)\n",
        "    x=count%5\n",
        "    if x==0:\n",
        "      dict1[\"A\"].append(i)\n",
        "    elif x==1:\n",
        "      dict1[\"B\"].append(i)\n",
        "    elif x==2:\n",
        "      dict1[\"C\"].append(i)\n",
        "    elif x==3:\n",
        "      dict1[\"D\"].append(i)\n",
        "    elif x==4:\n",
        "      dict1[\"E\"].append(i)\n",
        "    count=0\n",
        "\n",
        "  return dict1\n",
        "\n",
        "\n",
        "print(assign_students_to_sections('ABCDE','Alice','Bob','Charlie','David','Eve','Frank','Grace'))"
      ],
      "metadata": {
        "id": "pz4MgQk9Tr0j"
      },
      "execution_count": null,
      "outputs": []
    },
    {
      "cell_type": "code",
      "source": [
        "#Task 4\n",
        "first_name=input(\"First name:\")\n",
        "middle_name=input(\"Middle name:\")\n",
        "last_name=input(\"Last name:\")\n",
        "student_id=int(input(\"Student ID:\"))\n",
        "def username_generator(first,last,num,mid=''):\n",
        "  name1=first[0:3].upper()\n",
        "  name2=last[-3:].lower()\n",
        "  num2=str(num)\n",
        "  num1=str(num2[-4:])\n",
        "  name=name1+mid+name2+\"_\"+str(num1)\n",
        "  return name\n",
        "\n",
        "if middle_name==\"\":\n",
        "  print(username_generator(first_name, last_name,student_id))\n",
        "else:\n",
        "  print(username_generator(first_name, last_name,student_id,middle_name))"
      ],
      "metadata": {
        "id": "YzUQVrKoLxJj"
      },
      "execution_count": null,
      "outputs": []
    },
    {
      "cell_type": "code",
      "source": [
        "#Task 5\n",
        "def key_generator(*list1):\n",
        "  list2=[]\n",
        "  name1=\"\"\n",
        "  for i in list1:\n",
        "    name=i[-2:-len(i):-1]\n",
        "    print(name)\n",
        "    for j in name:\n",
        "      name1+=str(ord(j))\n",
        "    name3=i[0].lower()+name1+i[-1].upper()\n",
        "    name1=\"\"\n",
        "    list2+=[name3]\n",
        "  return list2\n",
        "print(key_generator(\"Alex\",\"Bob\", \"Trudy\"))"
      ],
      "metadata": {
        "id": "7gBfqlrhT4ZH"
      },
      "execution_count": null,
      "outputs": []
    },
    {
      "cell_type": "code",
      "source": [
        "#Task 6\n",
        "import random\n",
        "def playRockPaperScissor(rounds):\n",
        "      count1=0\n",
        "      count2=0\n",
        "      for i in range(rounds):\n",
        "        choice1=input().lower()\n",
        "        choice2=random.choice([\"rock\", \"paper\", \"scissor\"])\n",
        "        print(\"Computer:\",choice2)\n",
        "        if choice1==\"rock\" and choice2==\"paper\":\n",
        "          count2+=1\n",
        "        elif choice1==\"paper\" and choice2==\"scissor\":\n",
        "          count2+=1\n",
        "        elif choice1==\"scissor\" and choice2==\"rock\":\n",
        "          count2+=1\n",
        "        elif choice1==\"rock\" and choice2==\"scissor\":\n",
        "          count1+=1\n",
        "        elif choice1==\"paper\" and choice2==\"rock\":\n",
        "          count1+=1\n",
        "        elif choice1==\"scissor\" and choice2==\"paper\":\n",
        "          count1+=1\n",
        "      print(\"Your score:\",count1)\n",
        "      print(\"Compuer's score:\",count2)\n",
        "      if count1>count2:\n",
        "        print(\"You won the game!\")\n",
        "      elif count1<count2:\n",
        "        print(\"Computer has won the game!\")\n",
        "      elif count1==count2:\n",
        "        print(\"Tie\")\n",
        "num=int(input())\n",
        "playRockPaperScissor(num)"
      ],
      "metadata": {
        "id": "DLYkJK4nb4ou"
      },
      "execution_count": null,
      "outputs": []
    }
  ]
}