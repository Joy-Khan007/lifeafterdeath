{
  "nbformat": 4,
  "nbformat_minor": 0,
  "metadata": {
    "colab": {
      "provenance": []
    },
    "kernelspec": {
      "name": "python3",
      "display_name": "Python 3"
    },
    "language_info": {
      "name": "python"
    }
  },
  "cells": [
    {
      "cell_type": "code",
      "execution_count": null,
      "metadata": {
        "id": "BeuyPFyZcRQ_"
      },
      "outputs": [],
      "source": [
        "#Task 1\n",
        "heightcm=int(input())\n",
        "weight=int(input())\n",
        "heightm=heightcm/100\n",
        "def bmi(a,b):\n",
        "  bm=b/(a**2)\n",
        "  bm=round(bm,1)\n",
        "  if bm<18.5:\n",
        "    print(\"Score is \"+str(bm)+\". You are Underweight\")\n",
        "  elif 18.5<bm<24.9:\n",
        "    print(\"Score is \"+str(bm)+\". You are Normal\")\n",
        "  elif 20.5<bm<30:\n",
        "    print(\"Score is \"+str(bm)+\". You are Overwight\")\n",
        "  elif bm>30:\n",
        "    print(\"Score is \"+str(bm)+\". You are Obese\")\n",
        "bmi(heightm,weight)"
      ]
    },
    {
      "cell_type": "code",
      "source": [
        "#Task 2\n",
        "a=input()\n",
        "b=input()\n",
        "def charge(food,place=\"Mohakhali\"):\n",
        "    food_cost=0\n",
        "    tax=0\n",
        "    allcost=0\n",
        "    if food==\"BBQ Chicken Cheese Burger\":\n",
        "        food_cost=250\n",
        "        tax=food_cost*(8/100)\n",
        "    elif food==\"Beef Burger\":\n",
        "        food_cost=170\n",
        "        tax=food_cost*(8/100)\n",
        "    elif food==\"Naga Drums\":\n",
        "        food_cost=200\n",
        "        tax=food_cost*(8/100)\n",
        "    if place==\"Mohakhali\":\n",
        "      allcost=food_cost+tax+40\n",
        "    else:\n",
        "      allcost=food_cost+tax+60\n",
        "    print(allcost)\n",
        "\n",
        "charge(a,b)"
      ],
      "metadata": {
        "id": "Snj9GmdVhOeC"
      },
      "execution_count": null,
      "outputs": []
    },
    {
      "cell_type": "code",
      "source": [
        "#Task 3\n",
        "def replace_domain(email1,new,old):\n",
        "  name=\"\"\n",
        "  list1=email1.split(\"@\")\n",
        "  if old!=new:\n",
        "    name=list1[0]+\"@\"+new\n",
        "    print(\"Changed:\", name)\n",
        "  else:\n",
        "    print(\"Unchanged:\",email1)\n",
        "name=input()\n",
        "par=input()\n",
        "par_old=input()\n",
        "replace_domain(name,par,par_old)"
      ],
      "metadata": {
        "id": "dHXS97X9d65E"
      },
      "execution_count": null,
      "outputs": []
    },
    {
      "cell_type": "code",
      "source": [
        "#Task 4\n",
        "name=input()\n",
        "def check_pal(name1):\n",
        "    name1=\"\"\n",
        "    space=\" \"\n",
        "    for i in name:\n",
        "      if i==space:\n",
        "        continue\n",
        "      else:\n",
        "        name1+=i\n",
        "    if name1==name1[::-1]:\n",
        "      print(\"Palindrome\")\n",
        "    else:\n",
        "      print(\"Not a palindrome\")\n",
        "check_pal(name)\n"
      ],
      "metadata": {
        "id": "GSbTk_32ySbh"
      },
      "execution_count": null,
      "outputs": []
    },
    {
      "cell_type": "code",
      "source": [
        "#Task 5\n",
        "number=int(input())\n",
        "def cal(num):\n",
        "    num1=num%365\n",
        "    num2=num1%30\n",
        "    year=int(num/365)\n",
        "    month=int(num1/30)\n",
        "    days=int(num2)\n",
        "    print(year,\"years,\",month,\"months and\",days,\"days\")\n",
        "\n",
        "cal(number)"
      ],
      "metadata": {
        "id": "UNvYQRpYyT-Y"
      },
      "execution_count": null,
      "outputs": []
    },
    {
      "cell_type": "code",
      "source": [
        "#Task 6\n",
        "word=input()\n",
        "def check(a):\n",
        "  space=\" \"\n",
        "  flag=True\n",
        "  I=\"i\"\n",
        "  name1=\"\"\n",
        "  sign=\".?!\"\n",
        "  name1+=a[0].upper()\n",
        "  for i in range(1,len(a)):\n",
        "    if a[i] in sign:\n",
        "      name1+=a[i]\n",
        "      flag=False\n",
        "    elif a[i]!=space and flag==False:\n",
        "      name1+=a[i].upper()\n",
        "      flag=True\n",
        "    elif a[i]==I and a[i-1]==space:\n",
        "      if a[i+1]==space:\n",
        "          name1+=a[i].upper()\n",
        "      else:\n",
        "        name1+=a[i]\n",
        "    else:\n",
        "      name1+=a[i]\n",
        "  print(name1)\n",
        "check(word)"
      ],
      "metadata": {
        "id": "O2_4SiQwiMND"
      },
      "execution_count": null,
      "outputs": []
    },
    {
      "cell_type": "code",
      "source": [
        "num=4320%365\n",
        "print(num)"
      ],
      "metadata": {
        "id": "KCEs8xmlwZR1"
      },
      "execution_count": null,
      "outputs": []
    }
  ]
}